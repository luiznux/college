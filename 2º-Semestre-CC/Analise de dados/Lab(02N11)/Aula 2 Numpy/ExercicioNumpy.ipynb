{
 "cells": [
  {
   "cell_type": "code",
   "execution_count": 1,
   "metadata": {},
   "outputs": [
    {
     "name": "stdout",
     "output_type": "stream",
     "text": [
      "[0 1 2]\n",
      "[[0]\n",
      " [1]\n",
      " [2]]\n"
     ]
    },
    {
     "data": {
      "text/plain": [
       "array([[0, 1, 2],\n",
       "       [1, 2, 3],\n",
       "       [2, 3, 4]])"
      ]
     },
     "execution_count": 1,
     "metadata": {},
     "output_type": "execute_result"
    }
   ],
   "source": [
    "import numpy as np\n",
    "\n",
    "a = np.arange(3)\n",
    "b = np.arange(3)[:, np.newaxis]\n",
    "\n",
    "print(a)\n",
    "print(b)\n",
    "\n",
    "a + b"
   ]
  },
  {
   "cell_type": "markdown",
   "metadata": {},
   "source": [
    "A variavel \"a\" cria uma matriz  de três elementos( de acordo com o argumento inserido).\n",
    "\n",
    "Já a variavel \"b\" possui um função  a mais \"np.newaxis\",que \n",
    "fatia cada elemento da matriz criado em outras matrizes independetes dentro de um mesmo.\n",
    "\n",
    "A operação final \"a+b\", faz a soma das mastrizes criadas anterioermente e exibe\n",
    "seus resultados dentro de uma unica matriz.\n",
    "\n",
    "Grupo:\n",
    "\n",
    "Caroline-TIA: 31847341\t\n",
    "Luiz-TIA: 31861806\n",
    "Kaique-TIA: 31844812\n",
    "Nicolle-TIA: 31810446\n"
   ]
  }
 ],
 "metadata": {
  "kernelspec": {
   "display_name": "Python 3",
   "language": "python",
   "name": "python3"
  },
  "language_info": {
   "codemirror_mode": {
    "name": "ipython",
    "version": 3
   },
   "file_extension": ".py",
   "mimetype": "text/x-python",
   "name": "python",
   "nbconvert_exporter": "python",
   "pygments_lexer": "ipython3",
   "version": "3.6.5"
  }
 },
 "nbformat": 4,
 "nbformat_minor": 2
}
